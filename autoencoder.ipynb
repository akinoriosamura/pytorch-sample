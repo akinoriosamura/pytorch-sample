{
  "nbformat": 4,
  "nbformat_minor": 0,
  "metadata": {
    "colab": {
      "name": "autoencoder.ipynb",
      "version": "0.3.2",
      "provenance": [],
      "include_colab_link": true
    },
    "kernelspec": {
      "name": "python3",
      "display_name": "Python 3"
    }
  },
  "cells": [
    {
      "cell_type": "markdown",
      "metadata": {
        "id": "view-in-github",
        "colab_type": "text"
      },
      "source": [
        "<a href=\"https://colab.research.google.com/github/akinoriosamura/pytorch-sample/blob/master/autoencoder.ipynb\" target=\"_parent\"><img src=\"https://colab.research.google.com/assets/colab-badge.svg\" alt=\"Open In Colab\"/></a>"
      ]
    },
    {
      "cell_type": "code",
      "metadata": {
        "id": "AvksuLLgsdYa",
        "colab_type": "code",
        "colab": {}
      },
      "source": [
        "import os\n",
        "import numpy as np\n",
        "import torch\n",
        "import torch.nn as nn\n",
        "import torch.optim as optimizers\n",
        "from torch.utils.data import Dataset, DataLoader\n",
        "import torchvision\n",
        "import torchvision.transforms as transforms\n",
        "import matplotlib\n",
        "# matplotlib.use('Age')\n",
        "import matplotlib.pyplot as plt"
      ],
      "execution_count": 0,
      "outputs": []
    },
    {
      "cell_type": "code",
      "metadata": {
        "id": "XwF8c2K7tjFE",
        "colab_type": "code",
        "colab": {}
      },
      "source": [
        "class Autoencoder(nn.Module):\n",
        "  def __init__(self, device='cpu'):\n",
        "    super().__init__()\n",
        "    self.device =device\n",
        "    self.l1 = nn.Linear(784, 200)\n",
        "    self.l2 = nn.Linear(200, 784)\n",
        "  \n",
        "  def forward(self, x):\n",
        "    h = self.l1(x)\n",
        "    h = torch.relu(h)\n",
        "    \n",
        "    h = self.l2(h)\n",
        "    y = torch.sigmoid(h)\n",
        "    \n",
        "    return y"
      ],
      "execution_count": 0,
      "outputs": []
    },
    {
      "cell_type": "code",
      "metadata": {
        "id": "M1opMBxIub1r",
        "colab_type": "code",
        "colab": {
          "base_uri": "https://localhost:8080/",
          "height": 187
        },
        "outputId": "fc628f01-658c-408d-9ffe-1e18f75bfafa"
      },
      "source": [
        "if __name__ == '__main__':\n",
        "  np.random.seed(1234)\n",
        "  torch.manual_seed(1234)\n",
        "  device = torch.device('cuda' if torch.cuda.is_available() else 'cpu')\n",
        "  \"\"\"\n",
        "  1, load data\n",
        "  \"\"\"\n",
        "  root = os.path.join('./', 'data', 'fashion_mnist')\n",
        "  # view(-1)で一次元tensorに変換\n",
        "  transform = transforms.Compose([transforms.ToTensor(), lambda x: x.view(-1)])\n",
        "  mnist_train = torchvision.datasets.FashionMNIST(\n",
        "      root=root, download=True, train=True, transform=transform\n",
        "  )\n",
        "  mnist_test = torchvision.datasets.FashionMNIST(\n",
        "      root=root, download=True, train=False, transform=transform\n",
        "  )\n",
        "  train_dataloader = DataLoader(mnist_train, batch_size=100, shuffle=True)\n",
        "  test_dataloader = DataLoader(mnist_test, batch_size=1, shuffle=False)\n",
        "  \n",
        "  \"\"\"\n",
        "  2,build model\n",
        "  \"\"\"\n",
        "  model = Autoencoder(device=device).to(device)\n",
        "  \"\"\"\n",
        "  3, train model\n",
        "  \"\"\"\n",
        "  criterion = nn.BCELoss()\n",
        "  optimizer = optimizers.Adam(model.parameters())\n",
        "  \n",
        "  def compute_loss(x, preds):\n",
        "    return criterion(preds, x)\n",
        "  \n",
        "  def train_step(x):\n",
        "    # set train mode\n",
        "    model.train()\n",
        "    preds = model(x)\n",
        "    loss = compute_loss(x, preds)\n",
        "    \n",
        "    optimizer.zero_grad()\n",
        "    loss.backward()\n",
        "    optimizer.step()\n",
        "    \n",
        "    return loss\n",
        "  \n",
        "  epochs = 10\n",
        "  \n",
        "  for epoch in range(epochs):\n",
        "    train_loss = 0\n",
        "    \n",
        "    for (x, _) in train_dataloader:\n",
        "      x = x.to(device)\n",
        "      loss = train_step(x)\n",
        "      \n",
        "      train_loss += loss.item()\n",
        "    \n",
        "    train_loss /= len(train_dataloader)\n",
        "    \n",
        "    print('Epoch: {}, Cost: {:.3f}'.format(epoch+1, train_loss))"
      ],
      "execution_count": 23,
      "outputs": [
        {
          "output_type": "stream",
          "text": [
            "Epoch: 1, Cost: 0.327\n",
            "Epoch: 2, Cost: 0.280\n",
            "Epoch: 3, Cost: 0.271\n",
            "Epoch: 4, Cost: 0.267\n",
            "Epoch: 5, Cost: 0.265\n",
            "Epoch: 6, Cost: 0.263\n",
            "Epoch: 7, Cost: 0.262\n",
            "Epoch: 8, Cost: 0.261\n",
            "Epoch: 9, Cost: 0.260\n",
            "Epoch: 10, Cost: 0.260\n"
          ],
          "name": "stdout"
        }
      ]
    },
    {
      "cell_type": "code",
      "metadata": {
        "id": "4QAxD83o7eVA",
        "colab_type": "code",
        "colab": {
          "base_uri": "https://localhost:8080/",
          "height": 363
        },
        "outputId": "b418396b-162d-4c86-b1c1-7a078a01b285"
      },
      "source": [
        "\"\"\"\n",
        "4, test model\n",
        "\"\"\"\n",
        "x, _ = next(iter(test_dataloader))\n",
        "noise = torch.bernoulli(0.8 * torch.ones(x.size())).to(device)\n",
        "x_noise = x * noise\n",
        "\n",
        "x_reconstructed = model(x_noise)\n",
        "\n",
        "plt.figure(figsize=(18, 6))\n",
        "for i, image in enumerate([x, x_noise, x_reconstructed]):\n",
        "  image = image.view(28, 28).detach().cpu().numpy()\n",
        "  plt.subplot(1, 3, i+1)\n",
        "  plt.imshow(image, cmap='binary_r')\n",
        "  plt.axis('off')\n",
        "plt.show()"
      ],
      "execution_count": 25,
      "outputs": [
        {
          "output_type": "display_data",
          "data": {
            "image/png": "[encoded data removed]",
            "text/plain": [
              "<Figure size 1296x432 with 3 Axes>"
            ]
          },
          "metadata": {
            "tags": []
          }
        }
      ]
    },
    {
      "cell_type": "code",
      "metadata": {
        "id": "QsKAFKpl75c0",
        "colab_type": "code",
        "colab": {}
      },
      "source": [
        ""
      ],
      "execution_count": 0,
      "outputs": []
    }
  ]
}